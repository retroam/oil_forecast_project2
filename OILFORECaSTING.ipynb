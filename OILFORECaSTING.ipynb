{
 "cells": [
  {
   "cell_type": "code",
   "execution_count": 33,
   "metadata": {},
   "outputs": [],
   "source": [
    "import pandas as pd\n",
    "import numpy as np\n",
    "import matplotlib.pyplot as plt"
   ]
  },
  {
   "cell_type": "code",
   "execution_count": 34,
   "metadata": {},
   "outputs": [],
   "source": [
    "df = pd.read_csv('Oil and Gas 1932-2014 2.csv')"
   ]
  },
  {
   "cell_type": "code",
   "execution_count": 35,
   "metadata": {},
   "outputs": [
    {
     "data": {
      "text/html": [
       "<div>\n",
       "<style scoped>\n",
       "    .dataframe tbody tr th:only-of-type {\n",
       "        vertical-align: middle;\n",
       "    }\n",
       "\n",
       "    .dataframe tbody tr th {\n",
       "        vertical-align: top;\n",
       "    }\n",
       "\n",
       "    .dataframe thead th {\n",
       "        text-align: right;\n",
       "    }\n",
       "</style>\n",
       "<table border=\"1\" class=\"dataframe\">\n",
       "  <thead>\n",
       "    <tr style=\"text-align: right;\">\n",
       "      <th></th>\n",
       "      <th>cty_name</th>\n",
       "      <th>iso3numeric</th>\n",
       "      <th>id</th>\n",
       "      <th>year</th>\n",
       "      <th>eiacty</th>\n",
       "      <th>oil_prod32_14</th>\n",
       "      <th>oil_price_2000</th>\n",
       "      <th>oil_price_nom</th>\n",
       "      <th>oil_value_nom</th>\n",
       "      <th>oil_value_2000</th>\n",
       "      <th>...</th>\n",
       "      <th>net_gas_exports_mboe</th>\n",
       "      <th>net_gas_exports_value</th>\n",
       "      <th>net_gas_exports_valuePOP</th>\n",
       "      <th>net_oil_gas_exports_valuePOP</th>\n",
       "      <th>population</th>\n",
       "      <th>pop_maddison</th>\n",
       "      <th>sovereign</th>\n",
       "      <th>mult_nom_2000</th>\n",
       "      <th>mult_nom_2014</th>\n",
       "      <th>mult_2000_2014</th>\n",
       "    </tr>\n",
       "  </thead>\n",
       "  <tbody>\n",
       "    <tr>\n",
       "      <th>0</th>\n",
       "      <td>Afghanistan</td>\n",
       "      <td>4</td>\n",
       "      <td>AFG</td>\n",
       "      <td>1932</td>\n",
       "      <td>Afghanistan</td>\n",
       "      <td>NaN</td>\n",
       "      <td>10.860860</td>\n",
       "      <td>0.87</td>\n",
       "      <td>NaN</td>\n",
       "      <td>NaN</td>\n",
       "      <td>...</td>\n",
       "      <td>NaN</td>\n",
       "      <td>NaN</td>\n",
       "      <td>NaN</td>\n",
       "      <td>NaN</td>\n",
       "      <td>NaN</td>\n",
       "      <td>NaN</td>\n",
       "      <td>1</td>\n",
       "      <td>12.599874</td>\n",
       "      <td>17.321973</td>\n",
       "      <td>1.374774</td>\n",
       "    </tr>\n",
       "    <tr>\n",
       "      <th>1</th>\n",
       "      <td>Afghanistan</td>\n",
       "      <td>4</td>\n",
       "      <td>AFG</td>\n",
       "      <td>1933</td>\n",
       "      <td>Afghanistan</td>\n",
       "      <td>NaN</td>\n",
       "      <td>8.815239</td>\n",
       "      <td>0.67</td>\n",
       "      <td>NaN</td>\n",
       "      <td>NaN</td>\n",
       "      <td>...</td>\n",
       "      <td>NaN</td>\n",
       "      <td>NaN</td>\n",
       "      <td>NaN</td>\n",
       "      <td>NaN</td>\n",
       "      <td>NaN</td>\n",
       "      <td>NaN</td>\n",
       "      <td>1</td>\n",
       "      <td>13.280064</td>\n",
       "      <td>18.257080</td>\n",
       "      <td>1.374774</td>\n",
       "    </tr>\n",
       "    <tr>\n",
       "      <th>2</th>\n",
       "      <td>Afghanistan</td>\n",
       "      <td>4</td>\n",
       "      <td>AFG</td>\n",
       "      <td>1934</td>\n",
       "      <td>Afghanistan</td>\n",
       "      <td>NaN</td>\n",
       "      <td>12.715790</td>\n",
       "      <td>1.00</td>\n",
       "      <td>NaN</td>\n",
       "      <td>NaN</td>\n",
       "      <td>...</td>\n",
       "      <td>NaN</td>\n",
       "      <td>NaN</td>\n",
       "      <td>NaN</td>\n",
       "      <td>NaN</td>\n",
       "      <td>NaN</td>\n",
       "      <td>NaN</td>\n",
       "      <td>1</td>\n",
       "      <td>12.853008</td>\n",
       "      <td>17.669975</td>\n",
       "      <td>1.374774</td>\n",
       "    </tr>\n",
       "    <tr>\n",
       "      <th>3</th>\n",
       "      <td>Afghanistan</td>\n",
       "      <td>4</td>\n",
       "      <td>AFG</td>\n",
       "      <td>1935</td>\n",
       "      <td>Afghanistan</td>\n",
       "      <td>NaN</td>\n",
       "      <td>12.039690</td>\n",
       "      <td>0.97</td>\n",
       "      <td>NaN</td>\n",
       "      <td>NaN</td>\n",
       "      <td>...</td>\n",
       "      <td>NaN</td>\n",
       "      <td>NaN</td>\n",
       "      <td>NaN</td>\n",
       "      <td>NaN</td>\n",
       "      <td>NaN</td>\n",
       "      <td>NaN</td>\n",
       "      <td>1</td>\n",
       "      <td>12.537882</td>\n",
       "      <td>17.236748</td>\n",
       "      <td>1.374774</td>\n",
       "    </tr>\n",
       "    <tr>\n",
       "      <th>4</th>\n",
       "      <td>Afghanistan</td>\n",
       "      <td>4</td>\n",
       "      <td>AFG</td>\n",
       "      <td>1936</td>\n",
       "      <td>Afghanistan</td>\n",
       "      <td>NaN</td>\n",
       "      <td>13.383210</td>\n",
       "      <td>1.09</td>\n",
       "      <td>NaN</td>\n",
       "      <td>NaN</td>\n",
       "      <td>...</td>\n",
       "      <td>NaN</td>\n",
       "      <td>NaN</td>\n",
       "      <td>NaN</td>\n",
       "      <td>NaN</td>\n",
       "      <td>NaN</td>\n",
       "      <td>NaN</td>\n",
       "      <td>1</td>\n",
       "      <td>12.420786</td>\n",
       "      <td>17.075768</td>\n",
       "      <td>1.374774</td>\n",
       "    </tr>\n",
       "  </tbody>\n",
       "</table>\n",
       "<p>5 rows × 41 columns</p>\n",
       "</div>"
      ],
      "text/plain": [
       "      cty_name  iso3numeric   id  year       eiacty  oil_prod32_14  \\\n",
       "0  Afghanistan            4  AFG  1932  Afghanistan            NaN   \n",
       "1  Afghanistan            4  AFG  1933  Afghanistan            NaN   \n",
       "2  Afghanistan            4  AFG  1934  Afghanistan            NaN   \n",
       "3  Afghanistan            4  AFG  1935  Afghanistan            NaN   \n",
       "4  Afghanistan            4  AFG  1936  Afghanistan            NaN   \n",
       "\n",
       "   oil_price_2000  oil_price_nom  oil_value_nom  oil_value_2000  \\\n",
       "0       10.860860           0.87            NaN             NaN   \n",
       "1        8.815239           0.67            NaN             NaN   \n",
       "2       12.715790           1.00            NaN             NaN   \n",
       "3       12.039690           0.97            NaN             NaN   \n",
       "4       13.383210           1.09            NaN             NaN   \n",
       "\n",
       "        ...        net_gas_exports_mboe  net_gas_exports_value  \\\n",
       "0       ...                         NaN                    NaN   \n",
       "1       ...                         NaN                    NaN   \n",
       "2       ...                         NaN                    NaN   \n",
       "3       ...                         NaN                    NaN   \n",
       "4       ...                         NaN                    NaN   \n",
       "\n",
       "   net_gas_exports_valuePOP  net_oil_gas_exports_valuePOP  population  \\\n",
       "0                       NaN                           NaN         NaN   \n",
       "1                       NaN                           NaN         NaN   \n",
       "2                       NaN                           NaN         NaN   \n",
       "3                       NaN                           NaN         NaN   \n",
       "4                       NaN                           NaN         NaN   \n",
       "\n",
       "   pop_maddison  sovereign  mult_nom_2000  mult_nom_2014  mult_2000_2014  \n",
       "0           NaN          1      12.599874      17.321973        1.374774  \n",
       "1           NaN          1      13.280064      18.257080        1.374774  \n",
       "2           NaN          1      12.853008      17.669975        1.374774  \n",
       "3           NaN          1      12.537882      17.236748        1.374774  \n",
       "4           NaN          1      12.420786      17.075768        1.374774  \n",
       "\n",
       "[5 rows x 41 columns]"
      ]
     },
     "execution_count": 35,
     "metadata": {},
     "output_type": "execute_result"
    }
   ],
   "source": [
    "df.head()"
   ]
  },
  {
   "cell_type": "code",
   "execution_count": 36,
   "metadata": {},
   "outputs": [
    {
     "data": {
      "text/html": [
       "<div>\n",
       "<style scoped>\n",
       "    .dataframe tbody tr th:only-of-type {\n",
       "        vertical-align: middle;\n",
       "    }\n",
       "\n",
       "    .dataframe tbody tr th {\n",
       "        vertical-align: top;\n",
       "    }\n",
       "\n",
       "    .dataframe thead th {\n",
       "        text-align: right;\n",
       "    }\n",
       "</style>\n",
       "<table border=\"1\" class=\"dataframe\">\n",
       "  <thead>\n",
       "    <tr style=\"text-align: right;\">\n",
       "      <th></th>\n",
       "      <th>cty_name</th>\n",
       "      <th>iso3numeric</th>\n",
       "      <th>id</th>\n",
       "      <th>year</th>\n",
       "      <th>eiacty</th>\n",
       "      <th>oil_prod32_14</th>\n",
       "      <th>oil_price_2000</th>\n",
       "      <th>oil_price_nom</th>\n",
       "      <th>oil_value_nom</th>\n",
       "      <th>oil_value_2000</th>\n",
       "      <th>...</th>\n",
       "      <th>net_gas_exports_mboe</th>\n",
       "      <th>net_gas_exports_value</th>\n",
       "      <th>net_gas_exports_valuePOP</th>\n",
       "      <th>net_oil_gas_exports_valuePOP</th>\n",
       "      <th>population</th>\n",
       "      <th>pop_maddison</th>\n",
       "      <th>sovereign</th>\n",
       "      <th>mult_nom_2000</th>\n",
       "      <th>mult_nom_2014</th>\n",
       "      <th>mult_2000_2014</th>\n",
       "    </tr>\n",
       "  </thead>\n",
       "  <tbody>\n",
       "    <tr>\n",
       "      <th>14608</th>\n",
       "      <td>United States</td>\n",
       "      <td>840</td>\n",
       "      <td>USA</td>\n",
       "      <td>1932</td>\n",
       "      <td>United States</td>\n",
       "      <td>107000000.0</td>\n",
       "      <td>10.860860</td>\n",
       "      <td>0.87</td>\n",
       "      <td>6.823497e+08</td>\n",
       "      <td>8.597520e+09</td>\n",
       "      <td>...</td>\n",
       "      <td>NaN</td>\n",
       "      <td>NaN</td>\n",
       "      <td>NaN</td>\n",
       "      <td>NaN</td>\n",
       "      <td>125436000.0</td>\n",
       "      <td>125436000.0</td>\n",
       "      <td>1</td>\n",
       "      <td>12.599874</td>\n",
       "      <td>17.321973</td>\n",
       "      <td>1.374774</td>\n",
       "    </tr>\n",
       "    <tr>\n",
       "      <th>14609</th>\n",
       "      <td>United States</td>\n",
       "      <td>840</td>\n",
       "      <td>USA</td>\n",
       "      <td>1933</td>\n",
       "      <td>United States</td>\n",
       "      <td>124000000.0</td>\n",
       "      <td>8.815239</td>\n",
       "      <td>0.67</td>\n",
       "      <td>6.089764e+08</td>\n",
       "      <td>8.087246e+09</td>\n",
       "      <td>...</td>\n",
       "      <td>NaN</td>\n",
       "      <td>NaN</td>\n",
       "      <td>NaN</td>\n",
       "      <td>NaN</td>\n",
       "      <td>126180000.0</td>\n",
       "      <td>126180000.0</td>\n",
       "      <td>1</td>\n",
       "      <td>13.280064</td>\n",
       "      <td>18.257080</td>\n",
       "      <td>1.374774</td>\n",
       "    </tr>\n",
       "    <tr>\n",
       "      <th>14610</th>\n",
       "      <td>United States</td>\n",
       "      <td>840</td>\n",
       "      <td>USA</td>\n",
       "      <td>1934</td>\n",
       "      <td>United States</td>\n",
       "      <td>124000000.0</td>\n",
       "      <td>12.715790</td>\n",
       "      <td>1.00</td>\n",
       "      <td>9.089200e+08</td>\n",
       "      <td>1.168236e+10</td>\n",
       "      <td>...</td>\n",
       "      <td>NaN</td>\n",
       "      <td>NaN</td>\n",
       "      <td>NaN</td>\n",
       "      <td>NaN</td>\n",
       "      <td>126978000.0</td>\n",
       "      <td>126978000.0</td>\n",
       "      <td>1</td>\n",
       "      <td>12.853008</td>\n",
       "      <td>17.669975</td>\n",
       "      <td>1.374774</td>\n",
       "    </tr>\n",
       "    <tr>\n",
       "      <th>14611</th>\n",
       "      <td>United States</td>\n",
       "      <td>840</td>\n",
       "      <td>USA</td>\n",
       "      <td>1935</td>\n",
       "      <td>United States</td>\n",
       "      <td>136000000.0</td>\n",
       "      <td>12.039690</td>\n",
       "      <td>0.97</td>\n",
       "      <td>9.669736e+08</td>\n",
       "      <td>1.212380e+10</td>\n",
       "      <td>...</td>\n",
       "      <td>NaN</td>\n",
       "      <td>NaN</td>\n",
       "      <td>NaN</td>\n",
       "      <td>NaN</td>\n",
       "      <td>127859000.0</td>\n",
       "      <td>127859000.0</td>\n",
       "      <td>1</td>\n",
       "      <td>12.537882</td>\n",
       "      <td>17.236748</td>\n",
       "      <td>1.374774</td>\n",
       "    </tr>\n",
       "    <tr>\n",
       "      <th>14612</th>\n",
       "      <td>United States</td>\n",
       "      <td>840</td>\n",
       "      <td>USA</td>\n",
       "      <td>1936</td>\n",
       "      <td>United States</td>\n",
       "      <td>150000000.0</td>\n",
       "      <td>13.383210</td>\n",
       "      <td>1.09</td>\n",
       "      <td>1.198455e+09</td>\n",
       "      <td>1.488575e+10</td>\n",
       "      <td>...</td>\n",
       "      <td>NaN</td>\n",
       "      <td>NaN</td>\n",
       "      <td>NaN</td>\n",
       "      <td>NaN</td>\n",
       "      <td>128681000.0</td>\n",
       "      <td>128681000.0</td>\n",
       "      <td>1</td>\n",
       "      <td>12.420786</td>\n",
       "      <td>17.075768</td>\n",
       "      <td>1.374774</td>\n",
       "    </tr>\n",
       "  </tbody>\n",
       "</table>\n",
       "<p>5 rows × 41 columns</p>\n",
       "</div>"
      ],
      "text/plain": [
       "            cty_name  iso3numeric   id  year         eiacty  oil_prod32_14  \\\n",
       "14608  United States          840  USA  1932  United States    107000000.0   \n",
       "14609  United States          840  USA  1933  United States    124000000.0   \n",
       "14610  United States          840  USA  1934  United States    124000000.0   \n",
       "14611  United States          840  USA  1935  United States    136000000.0   \n",
       "14612  United States          840  USA  1936  United States    150000000.0   \n",
       "\n",
       "       oil_price_2000  oil_price_nom  oil_value_nom  oil_value_2000  \\\n",
       "14608       10.860860           0.87   6.823497e+08    8.597520e+09   \n",
       "14609        8.815239           0.67   6.089764e+08    8.087246e+09   \n",
       "14610       12.715790           1.00   9.089200e+08    1.168236e+10   \n",
       "14611       12.039690           0.97   9.669736e+08    1.212380e+10   \n",
       "14612       13.383210           1.09   1.198455e+09    1.488575e+10   \n",
       "\n",
       "            ...        net_gas_exports_mboe  net_gas_exports_value  \\\n",
       "14608       ...                         NaN                    NaN   \n",
       "14609       ...                         NaN                    NaN   \n",
       "14610       ...                         NaN                    NaN   \n",
       "14611       ...                         NaN                    NaN   \n",
       "14612       ...                         NaN                    NaN   \n",
       "\n",
       "       net_gas_exports_valuePOP  net_oil_gas_exports_valuePOP   population  \\\n",
       "14608                       NaN                           NaN  125436000.0   \n",
       "14609                       NaN                           NaN  126180000.0   \n",
       "14610                       NaN                           NaN  126978000.0   \n",
       "14611                       NaN                           NaN  127859000.0   \n",
       "14612                       NaN                           NaN  128681000.0   \n",
       "\n",
       "       pop_maddison  sovereign  mult_nom_2000  mult_nom_2014  mult_2000_2014  \n",
       "14608   125436000.0          1      12.599874      17.321973        1.374774  \n",
       "14609   126180000.0          1      13.280064      18.257080        1.374774  \n",
       "14610   126978000.0          1      12.853008      17.669975        1.374774  \n",
       "14611   127859000.0          1      12.537882      17.236748        1.374774  \n",
       "14612   128681000.0          1      12.420786      17.075768        1.374774  \n",
       "\n",
       "[5 rows x 41 columns]"
      ]
     },
     "execution_count": 36,
     "metadata": {},
     "output_type": "execute_result"
    }
   ],
   "source": [
    "USdf = df[df['cty_name']=='United States']\n",
    "USdf.head()"
   ]
  },
  {
   "cell_type": "code",
   "execution_count": 37,
   "metadata": {},
   "outputs": [
    {
     "name": "stderr",
     "output_type": "stream",
     "text": [
      "/anaconda3/lib/python3.7/site-packages/ipykernel_launcher.py:1: SettingWithCopyWarning: \n",
      "A value is trying to be set on a copy of a slice from a DataFrame.\n",
      "Try using .loc[row_indexer,col_indexer] = value instead\n",
      "\n",
      "See the caveats in the documentation: http://pandas.pydata.org/pandas-docs/stable/indexing.html#indexing-view-versus-copy\n",
      "  \"\"\"Entry point for launching an IPython kernel.\n"
     ]
    }
   ],
   "source": [
    "USdf['year'] = pd.to_datetime(USdf.year, format='%Y')"
   ]
  },
  {
   "cell_type": "code",
   "execution_count": 38,
   "metadata": {},
   "outputs": [
    {
     "data": {
      "text/html": [
       "<div>\n",
       "<style scoped>\n",
       "    .dataframe tbody tr th:only-of-type {\n",
       "        vertical-align: middle;\n",
       "    }\n",
       "\n",
       "    .dataframe tbody tr th {\n",
       "        vertical-align: top;\n",
       "    }\n",
       "\n",
       "    .dataframe thead th {\n",
       "        text-align: right;\n",
       "    }\n",
       "</style>\n",
       "<table border=\"1\" class=\"dataframe\">\n",
       "  <thead>\n",
       "    <tr style=\"text-align: right;\">\n",
       "      <th></th>\n",
       "      <th>cty_name</th>\n",
       "      <th>iso3numeric</th>\n",
       "      <th>id</th>\n",
       "      <th>year</th>\n",
       "      <th>eiacty</th>\n",
       "      <th>oil_prod32_14</th>\n",
       "      <th>oil_price_2000</th>\n",
       "      <th>oil_price_nom</th>\n",
       "      <th>oil_value_nom</th>\n",
       "      <th>oil_value_2000</th>\n",
       "      <th>...</th>\n",
       "      <th>net_gas_exports_mboe</th>\n",
       "      <th>net_gas_exports_value</th>\n",
       "      <th>net_gas_exports_valuePOP</th>\n",
       "      <th>net_oil_gas_exports_valuePOP</th>\n",
       "      <th>population</th>\n",
       "      <th>pop_maddison</th>\n",
       "      <th>sovereign</th>\n",
       "      <th>mult_nom_2000</th>\n",
       "      <th>mult_nom_2014</th>\n",
       "      <th>mult_2000_2014</th>\n",
       "    </tr>\n",
       "    <tr>\n",
       "      <th>year</th>\n",
       "      <th></th>\n",
       "      <th></th>\n",
       "      <th></th>\n",
       "      <th></th>\n",
       "      <th></th>\n",
       "      <th></th>\n",
       "      <th></th>\n",
       "      <th></th>\n",
       "      <th></th>\n",
       "      <th></th>\n",
       "      <th></th>\n",
       "      <th></th>\n",
       "      <th></th>\n",
       "      <th></th>\n",
       "      <th></th>\n",
       "      <th></th>\n",
       "      <th></th>\n",
       "      <th></th>\n",
       "      <th></th>\n",
       "      <th></th>\n",
       "      <th></th>\n",
       "    </tr>\n",
       "  </thead>\n",
       "  <tbody>\n",
       "    <tr>\n",
       "      <th>1932-01-01</th>\n",
       "      <td>United States</td>\n",
       "      <td>840</td>\n",
       "      <td>USA</td>\n",
       "      <td>1932-01-01</td>\n",
       "      <td>United States</td>\n",
       "      <td>107000000.0</td>\n",
       "      <td>10.860860</td>\n",
       "      <td>0.87</td>\n",
       "      <td>6.823497e+08</td>\n",
       "      <td>8.597520e+09</td>\n",
       "      <td>...</td>\n",
       "      <td>NaN</td>\n",
       "      <td>NaN</td>\n",
       "      <td>NaN</td>\n",
       "      <td>NaN</td>\n",
       "      <td>125436000.0</td>\n",
       "      <td>125436000.0</td>\n",
       "      <td>1</td>\n",
       "      <td>12.599874</td>\n",
       "      <td>17.321973</td>\n",
       "      <td>1.374774</td>\n",
       "    </tr>\n",
       "    <tr>\n",
       "      <th>1933-01-01</th>\n",
       "      <td>United States</td>\n",
       "      <td>840</td>\n",
       "      <td>USA</td>\n",
       "      <td>1933-01-01</td>\n",
       "      <td>United States</td>\n",
       "      <td>124000000.0</td>\n",
       "      <td>8.815239</td>\n",
       "      <td>0.67</td>\n",
       "      <td>6.089764e+08</td>\n",
       "      <td>8.087246e+09</td>\n",
       "      <td>...</td>\n",
       "      <td>NaN</td>\n",
       "      <td>NaN</td>\n",
       "      <td>NaN</td>\n",
       "      <td>NaN</td>\n",
       "      <td>126180000.0</td>\n",
       "      <td>126180000.0</td>\n",
       "      <td>1</td>\n",
       "      <td>13.280064</td>\n",
       "      <td>18.257080</td>\n",
       "      <td>1.374774</td>\n",
       "    </tr>\n",
       "    <tr>\n",
       "      <th>1934-01-01</th>\n",
       "      <td>United States</td>\n",
       "      <td>840</td>\n",
       "      <td>USA</td>\n",
       "      <td>1934-01-01</td>\n",
       "      <td>United States</td>\n",
       "      <td>124000000.0</td>\n",
       "      <td>12.715790</td>\n",
       "      <td>1.00</td>\n",
       "      <td>9.089200e+08</td>\n",
       "      <td>1.168236e+10</td>\n",
       "      <td>...</td>\n",
       "      <td>NaN</td>\n",
       "      <td>NaN</td>\n",
       "      <td>NaN</td>\n",
       "      <td>NaN</td>\n",
       "      <td>126978000.0</td>\n",
       "      <td>126978000.0</td>\n",
       "      <td>1</td>\n",
       "      <td>12.853008</td>\n",
       "      <td>17.669975</td>\n",
       "      <td>1.374774</td>\n",
       "    </tr>\n",
       "    <tr>\n",
       "      <th>1935-01-01</th>\n",
       "      <td>United States</td>\n",
       "      <td>840</td>\n",
       "      <td>USA</td>\n",
       "      <td>1935-01-01</td>\n",
       "      <td>United States</td>\n",
       "      <td>136000000.0</td>\n",
       "      <td>12.039690</td>\n",
       "      <td>0.97</td>\n",
       "      <td>9.669736e+08</td>\n",
       "      <td>1.212380e+10</td>\n",
       "      <td>...</td>\n",
       "      <td>NaN</td>\n",
       "      <td>NaN</td>\n",
       "      <td>NaN</td>\n",
       "      <td>NaN</td>\n",
       "      <td>127859000.0</td>\n",
       "      <td>127859000.0</td>\n",
       "      <td>1</td>\n",
       "      <td>12.537882</td>\n",
       "      <td>17.236748</td>\n",
       "      <td>1.374774</td>\n",
       "    </tr>\n",
       "    <tr>\n",
       "      <th>1936-01-01</th>\n",
       "      <td>United States</td>\n",
       "      <td>840</td>\n",
       "      <td>USA</td>\n",
       "      <td>1936-01-01</td>\n",
       "      <td>United States</td>\n",
       "      <td>150000000.0</td>\n",
       "      <td>13.383210</td>\n",
       "      <td>1.09</td>\n",
       "      <td>1.198455e+09</td>\n",
       "      <td>1.488575e+10</td>\n",
       "      <td>...</td>\n",
       "      <td>NaN</td>\n",
       "      <td>NaN</td>\n",
       "      <td>NaN</td>\n",
       "      <td>NaN</td>\n",
       "      <td>128681000.0</td>\n",
       "      <td>128681000.0</td>\n",
       "      <td>1</td>\n",
       "      <td>12.420786</td>\n",
       "      <td>17.075768</td>\n",
       "      <td>1.374774</td>\n",
       "    </tr>\n",
       "  </tbody>\n",
       "</table>\n",
       "<p>5 rows × 41 columns</p>\n",
       "</div>"
      ],
      "text/plain": [
       "                 cty_name  iso3numeric   id       year         eiacty  \\\n",
       "year                                                                    \n",
       "1932-01-01  United States          840  USA 1932-01-01  United States   \n",
       "1933-01-01  United States          840  USA 1933-01-01  United States   \n",
       "1934-01-01  United States          840  USA 1934-01-01  United States   \n",
       "1935-01-01  United States          840  USA 1935-01-01  United States   \n",
       "1936-01-01  United States          840  USA 1936-01-01  United States   \n",
       "\n",
       "            oil_prod32_14  oil_price_2000  oil_price_nom  oil_value_nom  \\\n",
       "year                                                                      \n",
       "1932-01-01    107000000.0       10.860860           0.87   6.823497e+08   \n",
       "1933-01-01    124000000.0        8.815239           0.67   6.089764e+08   \n",
       "1934-01-01    124000000.0       12.715790           1.00   9.089200e+08   \n",
       "1935-01-01    136000000.0       12.039690           0.97   9.669736e+08   \n",
       "1936-01-01    150000000.0       13.383210           1.09   1.198455e+09   \n",
       "\n",
       "            oil_value_2000       ...        net_gas_exports_mboe  \\\n",
       "year                             ...                               \n",
       "1932-01-01    8.597520e+09       ...                         NaN   \n",
       "1933-01-01    8.087246e+09       ...                         NaN   \n",
       "1934-01-01    1.168236e+10       ...                         NaN   \n",
       "1935-01-01    1.212380e+10       ...                         NaN   \n",
       "1936-01-01    1.488575e+10       ...                         NaN   \n",
       "\n",
       "            net_gas_exports_value  net_gas_exports_valuePOP  \\\n",
       "year                                                          \n",
       "1932-01-01                    NaN                       NaN   \n",
       "1933-01-01                    NaN                       NaN   \n",
       "1934-01-01                    NaN                       NaN   \n",
       "1935-01-01                    NaN                       NaN   \n",
       "1936-01-01                    NaN                       NaN   \n",
       "\n",
       "            net_oil_gas_exports_valuePOP   population  pop_maddison  \\\n",
       "year                                                                  \n",
       "1932-01-01                           NaN  125436000.0   125436000.0   \n",
       "1933-01-01                           NaN  126180000.0   126180000.0   \n",
       "1934-01-01                           NaN  126978000.0   126978000.0   \n",
       "1935-01-01                           NaN  127859000.0   127859000.0   \n",
       "1936-01-01                           NaN  128681000.0   128681000.0   \n",
       "\n",
       "            sovereign  mult_nom_2000  mult_nom_2014  mult_2000_2014  \n",
       "year                                                                 \n",
       "1932-01-01          1      12.599874      17.321973        1.374774  \n",
       "1933-01-01          1      13.280064      18.257080        1.374774  \n",
       "1934-01-01          1      12.853008      17.669975        1.374774  \n",
       "1935-01-01          1      12.537882      17.236748        1.374774  \n",
       "1936-01-01          1      12.420786      17.075768        1.374774  \n",
       "\n",
       "[5 rows x 41 columns]"
      ]
     },
     "execution_count": 38,
     "metadata": {},
     "output_type": "execute_result"
    }
   ],
   "source": [
    "USdf = USdf.set_index(USdf.year)\n",
    "USdf.head()"
   ]
  },
  {
   "cell_type": "code",
   "execution_count": 39,
   "metadata": {},
   "outputs": [],
   "source": [
    "usoildf = USdf.oil_price_2000"
   ]
  },
  {
   "cell_type": "code",
   "execution_count": 40,
   "metadata": {},
   "outputs": [
    {
     "data": {
      "text/plain": [
       "0.9264480773626516"
      ]
     },
     "execution_count": 40,
     "metadata": {},
     "output_type": "execute_result"
    }
   ],
   "source": [
    "usoildf.autocorr()"
   ]
  },
  {
   "cell_type": "code",
   "execution_count": 41,
   "metadata": {},
   "outputs": [
    {
     "data": {
      "image/png": "[encoded data removed]",
      "text/plain": [
       "<Figure size 432x288 with 1 Axes>"
      ]
     },
     "metadata": {
      "needs_background": "light"
     },
     "output_type": "display_data"
    }
   ],
   "source": [
    "from statsmodels.graphics.tsaplots import plot_acf\n",
    "plot_acf(usoildf, lags=20, alpha=0.5)\n",
    "plt.show()"
   ]
  },
  {
   "cell_type": "code",
   "execution_count": 43,
   "metadata": {},
   "outputs": [
    {
     "data": {
      "text/plain": [
       "array([ 1.        ,  0.89755498,  0.79064211,  0.69235808,  0.58349848,\n",
       "        0.51315908,  0.4179662 ,  0.2825137 ,  0.19067985,  0.1001782 ,\n",
       "        0.04313964,  0.00629678, -0.0373536 , -0.05961627, -0.07449752,\n",
       "       -0.07474538, -0.06530835, -0.06140953, -0.05923498, -0.05378079,\n",
       "       -0.02093647,  0.01976499,  0.04187045,  0.08285272,  0.11600799,\n",
       "        0.15560139,  0.20929723,  0.24617382,  0.26970036,  0.29155465,\n",
       "        0.27871207,  0.29101369,  0.27010082,  0.20463901,  0.1270575 ,\n",
       "        0.02763383, -0.04087524, -0.07038342, -0.12059732, -0.1708166 ,\n",
       "       -0.21443825])"
      ]
     },
     "execution_count": 43,
     "metadata": {},
     "output_type": "execute_result"
    }
   ],
   "source": [
    "from statsmodels.tsa.stattools import acf\n",
    "acf(usoildf)"
   ]
  },
  {
   "cell_type": "code",
   "execution_count": 47,
   "metadata": {},
   "outputs": [
    {
     "name": "stdout",
     "output_type": "stream",
     "text": [
      "P value under random walk in gas prices is 0.6894684539190976\n"
     ]
    }
   ],
   "source": [
    "from statsmodels.tsa.stattools import adfuller\n",
    "print('P value under random walk in gas prices is', adfuller(usoildf)[1])"
   ]
  },
  {
   "cell_type": "markdown",
   "metadata": {},
   "source": [
    "# Stationarity"
   ]
  },
  {
   "cell_type": "code",
   "execution_count": 71,
   "metadata": {},
   "outputs": [
    {
     "data": {
      "image/png": "[encoded data removed]",
      "text/plain": [
       "<Figure size 432x288 with 1 Axes>"
      ]
     },
     "metadata": {
      "needs_background": "light"
     },
     "output_type": "display_data"
    }
   ],
   "source": [
    "usoildf2 = usoildf.dropna()['01-01-1970':'01-01-2014']\n",
    "usoildf2.plot()\n",
    "plt.show()\n"
   ]
  },
  {
   "cell_type": "code",
   "execution_count": 92,
   "metadata": {},
   "outputs": [
    {
     "data": {
      "image/png": "[encoded data removed]",
      "text/plain": [
       "<Figure size 432x288 with 1 Axes>"
      ]
     },
     "metadata": {
      "needs_background": "light"
     },
     "output_type": "display_data"
    }
   ],
   "source": [
    "#logging the data\n",
    "dfA = usoildf2.diff().dropna()\n",
    "dfA.plot()\n",
    "plt.show()"
   ]
  },
  {
   "cell_type": "code",
   "execution_count": 93,
   "metadata": {},
   "outputs": [
    {
     "name": "stdout",
     "output_type": "stream",
     "text": [
      "P statistic to test if the data is not stationary. If I am not mistaking it seems to be stationary 2.7700925163076448e-09\n"
     ]
    }
   ],
   "source": [
    "print('P statistic to test if the data is not stationary. If I am not mistaking it seems to be stationary', \n",
    "      adfuller(dfA)[1])"
   ]
  },
  {
   "cell_type": "code",
   "execution_count": 94,
   "metadata": {},
   "outputs": [
    {
     "data": {
      "image/png": "[encoded data removed]",
      "text/plain": [
       "<Figure size 432x288 with 1 Axes>"
      ]
     },
     "metadata": {
      "needs_background": "light"
     },
     "output_type": "display_data"
    }
   ],
   "source": [
    "plot_acf(dfA)\n",
    "plt.show()"
   ]
  },
  {
   "cell_type": "code",
   "execution_count": 95,
   "metadata": {},
   "outputs": [
    {
     "name": "stdout",
     "output_type": "stream",
     "text": [
      "                              ARMA Model Results                              \n",
      "==============================================================================\n",
      "Dep. Variable:         oil_price_2000   No. Observations:                   44\n",
      "Model:                     ARMA(1, 0)   Log Likelihood                -168.007\n",
      "Method:                       css-mle   S.D. of innovations             11.016\n",
      "Date:                Sun, 27 Jan 2019   AIC                            342.014\n",
      "Time:                        16:16:58   BIC                            347.367\n",
      "Sample:                    01-01-1971   HQIC                           343.999\n",
      "                         - 01-01-2014                                         \n",
      "========================================================================================\n",
      "                           coef    std err          z      P>|z|      [0.025      0.975]\n",
      "----------------------------------------------------------------------------------------\n",
      "const                    1.4697      1.566      0.939      0.353      -1.599       4.538\n",
      "ar.L1.oil_price_2000    -0.0624      0.150     -0.415      0.680      -0.357       0.232\n",
      "                                    Roots                                    \n",
      "=============================================================================\n",
      "                  Real          Imaginary           Modulus         Frequency\n",
      "-----------------------------------------------------------------------------\n",
      "AR.1          -16.0343           +0.0000j           16.0343            0.5000\n",
      "-----------------------------------------------------------------------------\n"
     ]
    },
    {
     "name": "stderr",
     "output_type": "stream",
     "text": [
      "/anaconda3/lib/python3.7/site-packages/statsmodels/tsa/base/tsa_model.py:171: ValueWarning: No frequency information was provided, so inferred frequency AS-JAN will be used.\n",
      "  % freq, ValueWarning)\n",
      "/anaconda3/lib/python3.7/site-packages/scipy/signal/signaltools.py:1341: FutureWarning: Using a non-tuple sequence for multidimensional indexing is deprecated; use `arr[tuple(seq)]` instead of `arr[seq]`. In the future this will be interpreted as an array index, `arr[np.array(seq)]`, which will result either in an error or a different result.\n",
      "  out_full[ind] += zi\n",
      "/anaconda3/lib/python3.7/site-packages/scipy/signal/signaltools.py:1344: FutureWarning: Using a non-tuple sequence for multidimensional indexing is deprecated; use `arr[tuple(seq)]` instead of `arr[seq]`. In the future this will be interpreted as an array index, `arr[np.array(seq)]`, which will result either in an error or a different result.\n",
      "  out = out_full[ind]\n",
      "/anaconda3/lib/python3.7/site-packages/scipy/signal/signaltools.py:1350: FutureWarning: Using a non-tuple sequence for multidimensional indexing is deprecated; use `arr[tuple(seq)]` instead of `arr[seq]`. In the future this will be interpreted as an array index, `arr[np.array(seq)]`, which will result either in an error or a different result.\n",
      "  zf = out_full[ind]\n"
     ]
    }
   ],
   "source": [
    "from statsmodels.tsa.arima_model import ARMA\n",
    "mod = ARMA(dfA,order=(1,0))\n",
    "result = mod.fit()\n",
    "print(result.summary())"
   ]
  },
  {
   "cell_type": "code",
   "execution_count": null,
   "metadata": {},
   "outputs": [],
   "source": [
    "ar = np.array([1,.02])"
   ]
  },
  {
   "cell_type": "code",
   "execution_count": null,
   "metadata": {},
   "outputs": [],
   "source": []
  },
  {
   "cell_type": "code",
   "execution_count": null,
   "metadata": {},
   "outputs": [],
   "source": []
  },
  {
   "cell_type": "code",
   "execution_count": 97,
   "metadata": {},
   "outputs": [
    {
     "data": {
      "image/png": "[encoded data removed]",
      "text/plain": [
       "<Figure size 432x288 with 1 Axes>"
      ]
     },
     "execution_count": 97,
     "metadata": {},
     "output_type": "execute_result"
    },
    {
     "data": {
      "image/png": "[encoded data removed]",
      "text/plain": [
       "<Figure size 432x288 with 1 Axes>"
      ]
     },
     "metadata": {
      "needs_background": "light"
     },
     "output_type": "display_data"
    }
   ],
   "source": [
    "result.plot_predict(start='01-01-1990', end='01-01-2016')"
   ]
  },
  {
   "cell_type": "code",
   "execution_count": null,
   "metadata": {},
   "outputs": [],
   "source": []
  }
 ],
 "metadata": {
  "kernelspec": {
   "display_name": "Python 3",
   "language": "python",
   "name": "python3"
  },
  "language_info": {
   "codemirror_mode": {
    "name": "ipython",
    "version": 3
   },
   "file_extension": ".py",
   "mimetype": "text/x-python",
   "name": "python",
   "nbconvert_exporter": "python",
   "pygments_lexer": "ipython3",
   "version": "3.7.0"
  }
 },
 "nbformat": 4,
 "nbformat_minor": 2
}
